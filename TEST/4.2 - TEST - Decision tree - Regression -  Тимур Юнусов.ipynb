{
 "cells": [
  {
   "cell_type": "code",
   "execution_count": 1,
   "id": "e6fa540b",
   "metadata": {},
   "outputs": [],
   "source": [
    "import numpy as np\n",
    "import pandas as pd\n",
    "from sklearn.datasets import make_classification"
   ]
  },
  {
   "cell_type": "markdown",
   "id": "f097d091",
   "metadata": {},
   "source": [
    "# Diabetes data"
   ]
  },
  {
   "cell_type": "code",
   "execution_count": 2,
   "id": "19eaf9a3",
   "metadata": {},
   "outputs": [],
   "source": [
    "from sklearn.datasets import load_diabetes\n",
    "data = load_diabetes(as_frame=True)\n",
    "X, y = data['data'], data['target']"
   ]
  },
  {
   "cell_type": "markdown",
   "id": "82a9a408",
   "metadata": {},
   "source": [
    "# Solution: Тимур Юнусов"
   ]
  },
  {
   "cell_type": "code",
   "execution_count": 3,
   "id": "29192808",
   "metadata": {},
   "outputs": [],
   "source": [
    "class MyTreeReg:\n",
    "    def __init__(self, max_depth = 5, min_samples_split = 2, max_leafs = 20, bins = None):\n",
    "        self.max_depth = max_depth\n",
    "        self.min_samples_split = min_samples_split\n",
    "        self.max_leafs = max_leafs\n",
    "        self.leafs_cnt = 0\n",
    "        self.bins = bins\n",
    "        self._X_check_left = None\n",
    "        self._X_check_right = None\n",
    "        self._div_val_check = None\n",
    "        self._div_feature_check = None\n",
    "        self\n",
    "    def __str__(self):\n",
    "        return ('MyTreeReg class: max_depth={}, min_samples_split={}, max_leafs={}'.format(self.max_depth, self.min_samples_split, self.max_leafs))\n",
    "    def _get_dividers(self, X, y):\n",
    "        tmp = pd.concat([X, y], axis = 1)\n",
    "        dividers = dict()\n",
    "        for feature_name in X.columns:\n",
    "            tmp_sorted = tmp.sort_values(by = feature_name, ascending = False)\n",
    "            unique_values = tmp_sorted[feature_name].unique()\n",
    "            possible_dividers = (unique_values[:-1] + unique_values[1:])/2\n",
    "            if self.bins is not None:\n",
    "                if len(possible_dividers) <= self.bins - 1:\n",
    "                    dividers[feature_name] = possible_dividers\n",
    "                else:\n",
    "                    _, bins_values = np.histogram(tmp_sorted[feature_name], bins = self.bins)\n",
    "                    dividers[feature_name] = bins_values[1:-1]\n",
    "            else:\n",
    "                dividers[feature_name] = possible_dividers\n",
    "        self.dividers = dividers\n",
    "    def _get_best_split(self, X, y):\n",
    "        y.name = 'target'\n",
    "        y_mean = np.mean(y)\n",
    "        tmp = pd.concat([X, y], axis = 1)\n",
    "        MSE0 = np.mean((y - y_mean)**2)\n",
    "        best_split = {'col_name': None, 'split_value':None,  'gain':0}\n",
    "        for feature_name, div in self.dividers.items():\n",
    "            sorted_idx = np.argsort(X[feature_name])\n",
    "            X_sorted = X.iloc[sorted_idx]\n",
    "            y_sorted = y.iloc[sorted_idx]\n",
    "            for val in div:\n",
    "                left_mask = X_sorted[feature_name] <= val\n",
    "                right_mask = ~left_mask\n",
    "                if np.sum(left_mask) ==0 or np.sum(right_mask)==0:\n",
    "                     continue\n",
    "                else:\n",
    "                    y_left, y_right = y_sorted[left_mask], y_sorted[right_mask]\n",
    "                    MSE_left = np.mean((y_left - np.mean(y_left)) ** 2)\n",
    "                    MSE_right = np.mean((y_right - np.mean(y_right)) ** 2)\n",
    "                    IG = MSE0 - (MSE_left * len(y_left) / len(y) + MSE_right * len(y_right) / len(y))\n",
    "                    if IG > best_split['gain']:\n",
    "                        best_split.update({'col_name': feature_name, 'split_value':val,  'gain':IG})\n",
    "        return best_split['col_name'], best_split['split_value'], best_split['gain']                         \n",
    "    def _split_dataset(self, data, col_name, split_value):\n",
    "        left, right = data.query('{} <= @split_value'.format(col_name)), data.query('{} > @split_value'.format(col_name))\n",
    "        return left, right \n",
    "    def _build_tree(self, data, depth):\n",
    "        X, y = data.drop(columns = 'target'), data['target']\n",
    "        if len(y.unique()) == 1:\n",
    "            self.leafs_cnt += 1\n",
    "            self.potential_leafs -= 1\n",
    "            return y.mean()\n",
    "        if len(y) < self.min_samples_split:\n",
    "            self.leafs_cnt += 1\n",
    "            self.potential_leafs -= 1\n",
    "            return y.mean()\n",
    "        if ((self.max_depth != None) and (depth >= self.max_depth)):\n",
    "            self.leafs_cnt += 1\n",
    "            self.potential_leafs -= 1\n",
    "            return y.mean()\n",
    "        if  ((self.max_leafs != None) and (self.leafs_cnt + self.potential_leafs) >= self.max_leafs):\n",
    "            self.leafs_cnt += 1\n",
    "            return y.mean()\n",
    "        k = 0\n",
    "        for feature, div in self.dividers.items():\n",
    "            if (np.sum((X[feature] > min(div))) == 0) or (np.sum((X[feature] < max(div))) == 0):\n",
    "                print('Yes')\n",
    "                k += 1\n",
    "        if k == len(self.dividers):\n",
    "            self.leafs_cnt += 1\n",
    "            self.potential_leafs -= 1\n",
    "            return y.mean()\n",
    "        col_name, split_value, ig = self._get_best_split(X, y)\n",
    "        if depth == 0:\n",
    "            self.potential_leafs += 2\n",
    "        else:\n",
    "            self.potential_leafs += 1\n",
    "        left, right = self._split_dataset(data, col_name, split_value)\n",
    "        return {'feature': col_name,\n",
    "                'split_value': split_value,\n",
    "                'left': self._build_tree(left, depth + 1), \n",
    "                'right': self._build_tree(right, depth + 1)}\n",
    "    def fit(self, X, y):\n",
    "        y.name = 'target'\n",
    "        self._get_dividers(X, y)\n",
    "        data = pd.concat([X, y], axis = 1)\n",
    "        self.potential_leafs = 0\n",
    "        self.tree =  self._build_tree(data, depth = 0)\n",
    "    def _predict_row(self, sample, node = None):\n",
    "        if node == None:\n",
    "            node = self.tree\n",
    "        if type(node) == dict:\n",
    "            if sample[node['feature']] <= node['split_value']:\n",
    "                return self._predict_row(sample, node['left'])\n",
    "            else:\n",
    "                return self._predict_row(sample, node['right'])\n",
    "        else:\n",
    "            return node\n",
    "    def predict(self, X_test):\n",
    "        return list(X_test.apply(self._predict_row, axis = 1))"
   ]
  },
  {
   "cell_type": "markdown",
   "id": "0ef6bd5e",
   "metadata": {},
   "source": [
    "# Testing tree #3 - (5,100,10,4)"
   ]
  },
  {
   "cell_type": "code",
   "execution_count": 19,
   "id": "6d4b55c4",
   "metadata": {},
   "outputs": [
    {
     "name": "stdout",
     "output_type": "stream",
     "text": [
      "Yes\n",
      "Yes\n"
     ]
    }
   ],
   "source": [
    "test = MyTreeReg(5,100,10,4)\n",
    "test.fit(X,y)"
   ]
  },
  {
   "cell_type": "code",
   "execution_count": 20,
   "id": "7bb28482",
   "metadata": {},
   "outputs": [
    {
     "name": "stdout",
     "output_type": "stream",
     "text": [
      "Number of leaves is 9\n"
     ]
    }
   ],
   "source": [
    "print('Number of leaves is', test.leafs_cnt)"
   ]
  },
  {
   "cell_type": "code",
   "execution_count": 22,
   "id": "e92b02aa",
   "metadata": {},
   "outputs": [
    {
     "name": "stdout",
     "output_type": "stream",
     "text": [
      "Sum of the leafves values is 1536.517848\n"
     ]
    }
   ],
   "source": [
    "sum_leafs = []\n",
    "def get_leafs_sum(node, depth):\n",
    "    if node is None:\n",
    "        node = test.tree\n",
    "    if type(node) == dict:\n",
    "        if node['left']  is not None:\n",
    "            get_leafs_sum(node['left'], depth + 1)\n",
    "        if node['right']  is not None:\n",
    "            get_leafs_sum(node['right'], depth + 1)\n",
    "    else:\n",
    "        sum_leafs.append(float(node))\n",
    "    return sum_leafs\n",
    "get_leafs_sum(test.tree,0)\n",
    "print('Sum of the leafves values is', np.round(np.sum(sum_leafs),6))"
   ]
  },
  {
   "cell_type": "code",
   "execution_count": 23,
   "id": "ae3bd5ed",
   "metadata": {},
   "outputs": [
    {
     "name": "stdout",
     "output_type": "stream",
     "text": [
      "s5 > 0.003750797226299507\n",
      " bmi > 0.040139965041070744\n",
      "  bmi > -0.02506766542872388\n",
      "   s4 > 0.05441996975509651\n",
      "    s2 > 0.04158746183894749\n",
      "     Leaf ->95.47826086956522\n",
      "     Leaf ->133.25\n",
      "    Leaf ->253.0\n",
      "   Leaf ->121.66666666666667\n",
      "  Leaf ->176.82758620689654\n",
      " bmi > 0.040139965041070744\n",
      "  bmi > -0.02506766542872388\n",
      "   Leaf ->140.7037037037037\n",
      "   sex > 0.0030192411164148523\n",
      "    Leaf ->205.9090909090909\n",
      "    Leaf ->177.14285714285714\n",
      "  Leaf ->232.53968253968253\n"
     ]
    }
   ],
   "source": [
    "def print_tree(node=None, depth=0):\n",
    "        if node is None:\n",
    "            node = test.tree\n",
    "        if type(node) == dict:\n",
    "            print(f\"{' ' * depth}{node['feature']} > {node['split_value']}\")\n",
    "            if node['left'] is not None:\n",
    "                print_tree(node['left'], depth + 1)\n",
    "            if node['right'] is not None:\n",
    "                print_tree(node['right'], depth + 1)\n",
    "        else:\n",
    "            print(f\"{' ' * depth}Leaf ->{node}\")\n",
    "print_tree(node=None, depth=0)"
   ]
  },
  {
   "cell_type": "markdown",
   "id": "4785ed32",
   "metadata": {},
   "source": [
    "# Testing tree #5 - (10,40,21,10)"
   ]
  },
  {
   "cell_type": "code",
   "execution_count": 24,
   "id": "68723e87",
   "metadata": {},
   "outputs": [],
   "source": [
    "test = MyTreeReg(10,40,21,10)\n",
    "test.fit(X,y)"
   ]
  },
  {
   "cell_type": "code",
   "execution_count": 25,
   "id": "5f1d499c",
   "metadata": {},
   "outputs": [
    {
     "name": "stdout",
     "output_type": "stream",
     "text": [
      "Number of leaves is 21\n"
     ]
    }
   ],
   "source": [
    "print('Number of leaves is', test.leafs_cnt)"
   ]
  },
  {
   "cell_type": "code",
   "execution_count": 26,
   "id": "f47acf23",
   "metadata": {},
   "outputs": [
    {
     "name": "stdout",
     "output_type": "stream",
     "text": [
      "Sum of the leafves values is 3487.228104\n"
     ]
    }
   ],
   "source": [
    "sum_leafs = []\n",
    "def get_leafs_sum(node, depth):\n",
    "    if node is None:\n",
    "        node = test.tree\n",
    "    if type(node) == dict:\n",
    "        if node['left']  is not None:\n",
    "            get_leafs_sum(node['left'], depth + 1)\n",
    "        if node['right']  is not None:\n",
    "            get_leafs_sum(node['right'], depth + 1)\n",
    "    else:\n",
    "        sum_leafs.append(float(node))\n",
    "    return sum_leafs\n",
    "get_leafs_sum(test.tree,0)\n",
    "print('Sum of the leafves values is', np.round(np.sum(sum_leafs),6))"
   ]
  },
  {
   "cell_type": "code",
   "execution_count": 27,
   "id": "de098c89",
   "metadata": {},
   "outputs": [
    {
     "name": "stdout",
     "output_type": "stream",
     "text": [
      "bmi > 0.0140569128531529\n",
      " s5 > 0.003750797226299507\n",
      "  age > 0.0889314447476977\n",
      "   s5 > -0.0481884758883839\n",
      "    s6 > -0.001077697500466518\n",
      "     bp > -0.03906645628417579\n",
      "      Leaf ->67.0909090909091\n",
      "      Leaf ->86.77777777777777\n",
      "     Leaf ->109.4\n",
      "    s3 > -0.017261217243008803\n",
      "     Leaf ->133.0\n",
      "     bp > 0.10759983526898859\n",
      "      s4 > 0.028257075054077013\n",
      "       s1 > -0.04257235499460499\n",
      "        Leaf ->118.45454545454545\n",
      "        age > 0.023545752629345787\n",
      "         s2 > -0.021292749288390714\n",
      "          Leaf ->69.46153846153847\n",
      "          Leaf ->94.18604651162791\n",
      "         Leaf ->109.18181818181819\n",
      "       Leaf ->160.0\n",
      "      Leaf ->216.0\n",
      "   Leaf ->277.0\n",
      "  s4 > 0.10674575915713551\n",
      "   s6 > -0.001077697500466518\n",
      "    Leaf ->180.75\n",
      "    age > 0.0017505219232284985\n",
      "     Leaf ->114.58823529411765\n",
      "     Leaf ->165.6315789473684\n",
      "   Leaf ->216.14285714285714\n",
      " s6 > 0.026260208137442592\n",
      "  bp > 0.03426668949240641\n",
      "   bmi > 0.1183891216048243\n",
      "    age > -0.0854304009012407\n",
      "     Leaf ->274.0\n",
      "     bp > -0.03906645628417579\n",
      "      Leaf ->120.26666666666667\n",
      "      Leaf ->163.95238095238096\n",
      "    Leaf ->346.0\n",
      "   Leaf ->226.03125\n",
      "  Leaf ->239.3125\n"
     ]
    }
   ],
   "source": [
    "def print_tree(node=None, depth=0):\n",
    "        if node is None:\n",
    "            node = test.tree\n",
    "        if type(node) == dict:\n",
    "            print(f\"{' ' * depth}{node['feature']} > {node['split_value']}\")\n",
    "            if node['left'] is not None:\n",
    "                print_tree(node['left'], depth + 1)\n",
    "            if node['right'] is not None:\n",
    "                print_tree(node['right'], depth + 1)\n",
    "        else:\n",
    "            print(f\"{' ' * depth}Leaf ->{node}\")\n",
    "print_tree(node=None, depth=0)"
   ]
  },
  {
   "cell_type": "markdown",
   "id": "70cc12ba",
   "metadata": {},
   "source": [
    "# Testing tree #6  - (15,35,30,6)"
   ]
  },
  {
   "cell_type": "code",
   "execution_count": 28,
   "id": "99cc44cc",
   "metadata": {},
   "outputs": [],
   "source": [
    "test = MyTreeReg(15,35,30,6)\n",
    "test.fit(X,y)"
   ]
  },
  {
   "cell_type": "code",
   "execution_count": 29,
   "id": "ddf40ea5",
   "metadata": {},
   "outputs": [
    {
     "name": "stdout",
     "output_type": "stream",
     "text": [
      "Number of leaves is 26\n"
     ]
    }
   ],
   "source": [
    "print('Number of leaves is', test.leafs_cnt)"
   ]
  },
  {
   "cell_type": "code",
   "execution_count": 30,
   "id": "df1bf6cd",
   "metadata": {},
   "outputs": [
    {
     "name": "stdout",
     "output_type": "stream",
     "text": [
      "Sum of the leafves values is 4120.649305\n"
     ]
    }
   ],
   "source": [
    "sum_leafs = []\n",
    "def get_leafs_sum(node, depth):\n",
    "    if node is None:\n",
    "        node = test.tree\n",
    "    if type(node) == dict:\n",
    "        if node['left']  is not None:\n",
    "            get_leafs_sum(node['left'], depth + 1)\n",
    "        if node['right']  is not None:\n",
    "            get_leafs_sum(node['right'], depth + 1)\n",
    "    else:\n",
    "        sum_leafs.append(float(node))\n",
    "    return sum_leafs\n",
    "get_leafs_sum(test.tree,0)\n",
    "print('Sum of the leafves values is', np.round(np.sum(sum_leafs),6))"
   ]
  },
  {
   "cell_type": "code",
   "execution_count": 31,
   "id": "7c345586",
   "metadata": {},
   "outputs": [
    {
     "name": "stdout",
     "output_type": "stream",
     "text": [
      "s5 > 0.003750797226299507\n",
      " bmi > -0.0033317886054590046\n",
      "  s5 > -0.039531930369269996\n",
      "   age > 0.07440129094361951\n",
      "    s6 > -0.001077697500466518\n",
      "     bmi > -0.04680354225198875\n",
      "      Leaf ->89.17241379310344\n",
      "      Leaf ->70.46428571428571\n",
      "     Leaf ->105.11764705882354\n",
      "    Leaf ->199.0\n",
      "   s2 > 0.09398763777839597\n",
      "    bp > 0.09130358065197033\n",
      "     s6 > -0.04664087356364835\n",
      "      Leaf ->119.96\n",
      "      age > 0.0017505219232284985\n",
      "       Leaf ->93.40625\n",
      "       s6 > -0.001077697500466518\n",
      "        Leaf ->126.36363636363636\n",
      "        Leaf ->104.51851851851852\n",
      "     Leaf ->159.5\n",
      "    Leaf ->189.0\n",
      "  bmi > 0.08361171868760049\n",
      "   s5 > -0.039531930369269996\n",
      "    Leaf ->112.26315789473684\n",
      "    bp > 0.00982230756687899\n",
      "     Leaf ->141.1904761904762\n",
      "     Leaf ->176.8695652173913\n",
      "   Leaf ->253.85714285714286\n",
      " bmi > 0.040139965041070744\n",
      "  bmi > -0.0033317886054590046\n",
      "   s6 > 0.044485478562715314\n",
      "    s6 > -0.001077697500466518\n",
      "     Leaf ->172.84615384615384\n",
      "     Leaf ->128.0\n",
      "    Leaf ->191.3846153846154\n",
      "   s2 > 0.09398763777839597\n",
      "    s6 > 0.044485478562715314\n",
      "     s5 > 0.04703352482186901\n",
      "      s3 > 0.03943600493993199\n",
      "       s1 > 0.06034891879883933\n",
      "        Leaf ->192.72727272727272\n",
      "        Leaf ->114.0\n",
      "       Leaf ->102.25\n",
      "      Leaf ->236.0\n",
      "     Leaf ->238.15384615384616\n",
      "    Leaf ->118.0\n",
      "  bp > 0.05056294410942466\n",
      "   s6 > 0.044485478562715314\n",
      "    Leaf ->176.1578947368421\n",
      "    Leaf ->249.125\n",
      "   Leaf ->261.32142857142856\n"
     ]
    }
   ],
   "source": [
    "def print_tree(node=None, depth=0):\n",
    "        if node is None:\n",
    "            node = test.tree\n",
    "        if type(node) == dict:\n",
    "            print(f\"{' ' * depth}{node['feature']} > {node['split_value']}\")\n",
    "            if node['left'] is not None:\n",
    "                print_tree(node['left'], depth + 1)\n",
    "            if node['right'] is not None:\n",
    "                print_tree(node['right'], depth + 1)\n",
    "        else:\n",
    "            print(f\"{' ' * depth}Leaf ->{node}\")\n",
    "print_tree(node=None, depth=0)"
   ]
  },
  {
   "cell_type": "code",
   "execution_count": null,
   "id": "aafd5a31",
   "metadata": {},
   "outputs": [],
   "source": []
  }
 ],
 "metadata": {
  "kernelspec": {
   "display_name": "Python 3",
   "language": "python",
   "name": "python3"
  },
  "language_info": {
   "codemirror_mode": {
    "name": "ipython",
    "version": 3
   },
   "file_extension": ".py",
   "mimetype": "text/x-python",
   "name": "python",
   "nbconvert_exporter": "python",
   "pygments_lexer": "ipython3",
   "version": "3.8.10"
  }
 },
 "nbformat": 4,
 "nbformat_minor": 5
}
