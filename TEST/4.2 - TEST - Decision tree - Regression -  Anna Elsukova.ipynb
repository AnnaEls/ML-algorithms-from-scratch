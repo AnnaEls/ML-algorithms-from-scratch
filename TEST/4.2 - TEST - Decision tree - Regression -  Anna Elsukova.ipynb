{
 "cells": [
  {
   "cell_type": "code",
   "execution_count": 3,
   "id": "e6fa540b",
   "metadata": {},
   "outputs": [],
   "source": [
    "import numpy as np\n",
    "import pandas as pd\n",
    "from sklearn.datasets import make_classification"
   ]
  },
  {
   "cell_type": "markdown",
   "id": "f097d091",
   "metadata": {},
   "source": [
    "# Diabetes data"
   ]
  },
  {
   "cell_type": "code",
   "execution_count": 45,
   "id": "19eaf9a3",
   "metadata": {},
   "outputs": [],
   "source": [
    "from sklearn.datasets import load_diabetes\n",
    "data = load_diabetes(as_frame=True)\n",
    "X, y = data['data'], data['target']"
   ]
  },
  {
   "cell_type": "markdown",
   "id": "82a9a408",
   "metadata": {},
   "source": [
    "# Solution: Anna Elsukova"
   ]
  },
  {
   "cell_type": "code",
   "execution_count": 46,
   "id": "29192808",
   "metadata": {},
   "outputs": [],
   "source": [
    "#*********************************************************************************************************************\n",
    "#*********************************************************************************************************************\n",
    "class Node():\n",
    "    \n",
    "    def __init__(self, node_type = 'Node', side=None, feature = None, split_value = None, parent=None, *, node_depth = None,  ID = None, value = None, children=[]): #class initialization\n",
    "        self.node_type = node_type #Leaf or Node        \n",
    "        self.side = side #LEft or Right\n",
    "        self.feature = feature\n",
    "        self.split_value = split_value\n",
    "        self.parent = parent\n",
    "        \n",
    "        self.node_depth = node_depth \n",
    "        self.ID = ID\n",
    "        self.value = value #only for Leaf  \n",
    "        self.children = []\n",
    "        \n",
    "        self.Np = 0 #number of points in the node\n",
    "        \n",
    "            \n",
    "        \n",
    "        \n",
    "    def add_child(self, new_value):\n",
    "        self.children.append(new_value)\n",
    "#*********************************************************************************************************************\n",
    "#*********************************************************************************************************************\n",
    "\n",
    "class MyTreeReg():\n",
    "    \n",
    "    def __init__(self, max_depth = 5,  min_samples_split =2, max_leafs = 20, bins = None): \n",
    "        self.max_depth = max_depth #maximum possible depth of tree\n",
    "        self.min_samples_split = min_samples_split #minimum sample split\n",
    "        self.max_leafs = max_leafs #maximum possible number of leaves in a tree\n",
    "        self.bins = bins\n",
    "        \n",
    "        #tree parameters\n",
    "        self.tree = []\n",
    "        self.leafs_cnt = 0 #number of created leaves in the tree\n",
    "        self.potential_leafs_cnt = 1 #counting potential leaves\n",
    "        self.leafs_sum = 0 #sum of the leaves values\n",
    "        \n",
    "        self.histogram = {}\n",
    "        \n",
    "        self.fi = {}\n",
    "        \n",
    "        self.N = 0\n",
    "        \n",
    "    def __repr__(self):\n",
    "        return f'MyTreeClf class: max_depth={self.max_depth}, min_samples_split={self.min_samples_split}, max_leafs={self.max_leafs}'\n",
    "    \n",
    "    #------------------------------------------------------------------------------------------------------------\n",
    "    def fit(self, X, y): #receives panda dataframe and series\n",
    "        if self.bins != None:\n",
    "            for feature in X.columns:\n",
    "                self.histogram.update({feature: self.get_hist_delimeters(X[feature].values)})\n",
    "                \n",
    "        for feature in X.columns:\n",
    "            self.fi.update({feature: 0})\n",
    "        \n",
    "        self.N = len(y.values)\n",
    "        \n",
    "        #Create root node\n",
    "        feature, split_value, ig = self.get_best_split(X,y)\n",
    "        X_left, y_left, X_right, y_right = self.split_dataframe(X, y, feature, split_value)\n",
    "        if ig == 0.0 or len(y_left) == 0 or len(y_right) == 0:            \n",
    "            print('All targets belong to class:', np.sum(y.values)/len(y.values) )\n",
    "        else:\n",
    "            _node = self.register_Node(\"Node\", None, feature, split_value, None, y)\n",
    "            #--------feature importance update---\n",
    "            _node.Np = len(y.values)\n",
    "            self.update_fi(y, _node, None)\n",
    "            #----------------------------------\n",
    "            self.grow_tree(X_left, y_left, 'Left', _node)\n",
    "            self.grow_tree(X_right, y_right, 'Right', _node)\n",
    "            \n",
    "        \n",
    "    def grow_tree(self, X, y, side, parent): #receives panda dataframe and series, string and Node\n",
    "        feature, split_value, ig = self.get_best_split(X,y)\n",
    "        X_left, y_left, X_right, y_right = self.split_dataframe(X, y, feature, split_value)\n",
    "        \n",
    "        if ig != 0.0 and len(y_left) != 0 and len(y_right) != 0 and (parent.node_depth < self.max_depth) and (len(y.values) >= self.min_samples_split) and (self.leafs_cnt + self.potential_leafs_cnt < self.max_leafs):\n",
    "            _node = self.register_Node('Node', side, feature, split_value, parent, y)\n",
    "            #--------feature importance update---\n",
    "            _node.Np = len(y.values)\n",
    "            self.update_fi(y, _node, parent)\n",
    "            #----------------------------------\n",
    "            self.grow_tree(X_left, y_left, 'Left', _node)\n",
    "            self.grow_tree(X_right, y_right, 'Right', _node)\n",
    "        else:\n",
    "            _node = self.register_Node('Leaf', side, feature, split_value, parent, y)\n",
    "            #--------feature importance update---\n",
    "            _node.Np = len(y.values)\n",
    "            self.update_fi(y, _node, parent)\n",
    "            #----------------------------------\n",
    "            return _node\n",
    "            \n",
    "    #-------------------------------------------------------------------------------------------------------------\n",
    "    #-------------------------------------------------------------------------------------------------------------\n",
    "    def register_Node(self, node_type, side, feature, split_value, parent, y):\n",
    "        #1.setting node depth\n",
    "        if parent != None:\n",
    "            node_depth = parent.node_depth +1\n",
    "        else:\n",
    "            node_depth = 1\n",
    "            \n",
    "        #2.setting node ID\n",
    "        if node_type == 'Node':\n",
    "            if side == 'Left':\n",
    "                 ID = parent.ID + '.1' \n",
    "            elif side == 'Right':\n",
    "                 ID = parent.ID + '.2'\n",
    "            else:\n",
    "                ID = '1'\n",
    "        \n",
    "        if node_type == 'Leaf':\n",
    "            ID = parent.ID\n",
    "            \n",
    "        #3.Setting node value\n",
    "        if node_type == 'Leaf':\n",
    "            value = np.mean(y.values)\n",
    "        else:\n",
    "            value = None\n",
    "        \n",
    "        new_node = Node(node_type, side, feature, split_value, parent, node_depth=node_depth, ID=ID, value=value)\n",
    "        self.tree.append(new_node)\n",
    "        \n",
    "        #add as a child to parent node\n",
    "        if parent != None :                            \n",
    "            parent.add_child(new_node)\n",
    "            \n",
    "        #update counts\n",
    "        if node_type == \"Node\":\n",
    "            self.potential_leafs_cnt = self.potential_leafs_cnt + 1\n",
    "        elif node_type == \"Leaf\":\n",
    "            self.leafs_cnt = self.leafs_cnt + 1\n",
    "            self.potential_leafs_cnt = self.potential_leafs_cnt - 1\n",
    "            self.leafs_sum = self.leafs_sum + value\n",
    "        return new_node\n",
    "        \n",
    "            \n",
    "    def print_tree_full(self):\n",
    "        for node in self.tree:\n",
    "                print(node.__dict__)\n",
    "    \n",
    "    def print_tree(self):\n",
    "        for node in self.tree:\n",
    "            if node.node_type == 'Node':\n",
    "                \n",
    "                print(node.__dict__['ID'], node.__dict__['feature'], '>', node.__dict__['split_value'])\n",
    "            else:\n",
    "                print(node.__dict__['ID'],node.__dict__['side'], '-', node.__dict__['value'])\n",
    "                \n",
    "    def move_up_the_tree(self, X, _node,i):\n",
    "        if _node.node_type =='Leaf':\n",
    "            self.predictions[i]=float(_node.value)\n",
    "        elif _node.node_type =='Node': \n",
    "            if X[_node.feature] <= _node.split_value:\n",
    "                if _node.children[0].side =='Left':\n",
    "                    self.move_up_the_tree(X, _node.children[0],i)\n",
    "                else: self.move_up_the_tree(X, _node.children[1],i)\n",
    "               \n",
    "            else:\n",
    "                if _node.children[0].side =='Right':\n",
    "                    self.move_up_the_tree(X, _node.children[0],i)\n",
    "                else: self.move_up_the_tree(X, _node.children[1],i)\n",
    "    #-------------------------------------------------------------------------------------------------------------\n",
    "    #-------------------------------------------------------------------------------------------------------------\n",
    "    def predict(self,X):\n",
    "        self.predictions = np.zeros(X.shape[0])\n",
    "        for i in range(X.shape[0]):\n",
    "            self.move_up_the_tree(X.iloc[i,:], self.tree[0],i)\n",
    "        return(self.predictions)\n",
    "        \n",
    "    #-------------------------------------------------------------------------------------------------------------\n",
    "    #-------------------------------------------------------------------------------------------------------------\n",
    "    #Calculate the best split\n",
    "    def MSE(self, y): # receives 1D numpy array\n",
    "        return np.mean(np.square(y-np.mean(y)))\n",
    "\n",
    "    def data_split(self, X, y, threshold): #receives two 1D numpy arrays and a float\n",
    "        X_left = X[X <= threshold]\n",
    "        y_left = y[X <= threshold]\n",
    "        X_right = X[X > threshold]\n",
    "        y_right = y[X > threshold]\n",
    "        return X_left, y_left, X_right, y_right\n",
    "    \n",
    "    def get_IG(self, X, y, threshold): #receives two numpy arrays and a float\n",
    "        #split the data by the threshold\n",
    "        _, y_left, __, y_right = self.data_split(X, y, threshold)\n",
    "        if len(y_left) == 0 or len(y_right) == 0: #threshold does not split the data\n",
    "            return 0.0\n",
    "        else:\n",
    "            S0 = self.MSE(y)\n",
    "            S1 = self.MSE(y_left)*len(y_left)/len(y)\n",
    "            S2 = self.MSE(y_right)*len(y_right)/len(y)\n",
    "            IG = S0 - S1 -S2\n",
    "            return IG\n",
    "        \n",
    "    def get_native_delimeters(self, X): #receives 1D numpy array\n",
    "        X_unique = np.unique(np.sort(X))\n",
    "        native_delimeters = [np.mean([X_unique[i-1], X_unique[i]]) for i in range(1, len(X_unique))]\n",
    "        return native_delimeters\n",
    "    \n",
    "    def get_hist_delimeters(self, X): #receives 1D numpy array\n",
    "        hist_delimeters = np.histogram(X, self.bins)[1][1:-1]\n",
    "        return hist_delimeters\n",
    "    \n",
    "    def get_best_split(self, X, y): #receives panda dataframe and panda series\n",
    "        feature_best_split = {}\n",
    "        for feature in X.columns:\n",
    "            if len(X[feature].values) == 0 or np.max(X[feature].values) == np.min(X[feature].values):\n",
    "                feature_best_split.update({feature: [None, 0.0]}) #feature has no values or any delimeters\n",
    "            else:\n",
    "                if self.bins == None:                    \n",
    "                    feature_delimeters = self.get_native_delimeters(X[feature].values)\n",
    "                else: \n",
    "                    X_unique = np.unique(np.sort(X))\n",
    "                    if len(X_unique) <= self.bins:\n",
    "                        feature_delimeters = self.get_native_delimeters(X[feature].values)\n",
    "                    else:\n",
    "                         feature_delimeters = self.histogram[feature]\n",
    "                    \n",
    "                feature_igs = [self.get_IG(X[feature].values, y.values, feature_delimeters[i]) for i in range(len(feature_delimeters))]\n",
    "                feature_best_split.update({feature: [feature_delimeters[np.argmax(feature_igs)],np.max(feature_igs)]})\n",
    "        \n",
    "        split_value, ig   = max(feature_best_split.values(), key=lambda x: x[1])\n",
    "        feature = next(k for k, v in feature_best_split.items() if v == [split_value, ig])\n",
    "        return feature, split_value, ig\n",
    "    #-------------------------------------------------------------------------------------------------------------\n",
    "        \n",
    "    def split_dataframe(self, X, y, feature, threshold): #X,y - np.arrays, threshold - float\n",
    "        X_left = X[X[feature] <= threshold].reset_index(drop = True)\n",
    "        y_left = y[X[feature] <= threshold].reset_index(drop = True)\n",
    "        X_right = X[X[feature] > threshold].reset_index(drop = True)\n",
    "        y_right = y[X[feature] > threshold].reset_index(drop = True)\n",
    "        return X_left, y_left, X_right, y_right\n",
    "    \n",
    "    def update_fi(self, y, _node, parent):\n",
    "        if _node.node_type == 'Node':\n",
    "            FI = self.MSE(y.values)*_node.Np/self.N         \n",
    "            self.fi.update({_node.feature: self.fi[_node.feature] + FI })\n",
    "        \n",
    "        if parent != None:\n",
    "            FI = self.MSE(y.values)*_node.Np/self.N\n",
    "            self.fi.update({parent.feature: self.fi[parent.feature] - FI })\n",
    "    \n",
    "        \n",
    "    \n",
    "\n",
    "\n",
    "\n",
    "\n"
   ]
  },
  {
   "cell_type": "markdown",
   "id": "0ef6bd5e",
   "metadata": {},
   "source": [
    "# Testing tree #3 - (5,100,10,4)"
   ]
  },
  {
   "cell_type": "code",
   "execution_count": 47,
   "id": "6d4b55c4",
   "metadata": {},
   "outputs": [],
   "source": [
    "test = MyTreeReg(5,100,10,4)\n",
    "test.fit(X,y)"
   ]
  },
  {
   "cell_type": "code",
   "execution_count": 48,
   "id": "7bb28482",
   "metadata": {},
   "outputs": [
    {
     "name": "stdout",
     "output_type": "stream",
     "text": [
      "Number of leaves is 9\n"
     ]
    }
   ],
   "source": [
    "print('Number of leaves is', test.leafs_cnt)"
   ]
  },
  {
   "cell_type": "code",
   "execution_count": 49,
   "id": "e92b02aa",
   "metadata": {},
   "outputs": [
    {
     "name": "stdout",
     "output_type": "stream",
     "text": [
      "Sum of the leafves values is 1536.517848\n"
     ]
    }
   ],
   "source": [
    "print('Sum of the leafves values is', np.round(np.sum(test.leafs_sum),6))"
   ]
  },
  {
   "cell_type": "code",
   "execution_count": 50,
   "id": "ae3bd5ed",
   "metadata": {},
   "outputs": [
    {
     "name": "stdout",
     "output_type": "stream",
     "text": [
      "1 s5 > 0.003750797226299507\n",
      "1.1 bmi > 0.040139965041070744\n",
      "1.1.1 bmi > -0.02506766542872388\n",
      "1.1.1.1 s4 > 0.05441996975509651\n",
      "1.1.1.1.1 s2 > 0.04158746183894749\n",
      "1.1.1.1.1 Left - 95.47826086956522\n",
      "1.1.1.1.1 Right - 133.25\n",
      "1.1.1.1 Right - 253.0\n",
      "1.1.1 Right - 121.66666666666667\n",
      "1.1 Right - 176.82758620689654\n",
      "1.2 bmi > 0.040139965041070744\n",
      "1.2.1 bmi > -0.02506766542872388\n",
      "1.2.1 Left - 140.7037037037037\n",
      "1.2.1.2 sex > -0.020811197695287074\n",
      "1.2.1.2 Left - 205.9090909090909\n",
      "1.2.1.2 Right - 177.14285714285714\n",
      "1.2 Right - 232.53968253968253\n"
     ]
    }
   ],
   "source": [
    "test.print_tree()"
   ]
  },
  {
   "cell_type": "markdown",
   "id": "4785ed32",
   "metadata": {},
   "source": [
    "# Testing tree #5 - (10,40,21,10)"
   ]
  },
  {
   "cell_type": "code",
   "execution_count": 51,
   "id": "68723e87",
   "metadata": {},
   "outputs": [],
   "source": [
    "test = MyTreeReg(10,40,21,10)\n",
    "test.fit(X,y)"
   ]
  },
  {
   "cell_type": "code",
   "execution_count": 52,
   "id": "5f1d499c",
   "metadata": {},
   "outputs": [
    {
     "name": "stdout",
     "output_type": "stream",
     "text": [
      "Number of leaves is 21\n"
     ]
    }
   ],
   "source": [
    "print('Number of leaves is', test.leafs_cnt)"
   ]
  },
  {
   "cell_type": "code",
   "execution_count": 53,
   "id": "f47acf23",
   "metadata": {},
   "outputs": [
    {
     "name": "stdout",
     "output_type": "stream",
     "text": [
      "Sum of the leafves values is 3487.228104\n"
     ]
    }
   ],
   "source": [
    "print('Sum of the leafves values is', np.round(np.sum(test.leafs_sum),6))"
   ]
  },
  {
   "cell_type": "code",
   "execution_count": 54,
   "id": "de098c89",
   "metadata": {},
   "outputs": [
    {
     "name": "stdout",
     "output_type": "stream",
     "text": [
      "1 bmi > 0.0140569128531529\n",
      "1.1 s5 > 0.003750797226299507\n",
      "1.1.1 age > 0.0889314447476977\n",
      "1.1.1.1 s5 > -0.0481884758883839\n",
      "1.1.1.1.1 s6 > -0.001077697500466518\n",
      "1.1.1.1.1.1 bp > -0.03906645628417579\n",
      "1.1.1.1.1.1 Left - 67.0909090909091\n",
      "1.1.1.1.1.1 Right - 86.77777777777777\n",
      "1.1.1.1.1 Right - 109.4\n",
      "1.1.1.1.2 s3 > -0.017261217243008803\n",
      "1.1.1.1.2 Left - 133.0\n",
      "1.1.1.1.2.2 bp > 0.10759983526898859\n",
      "1.1.1.1.2.2.1 s4 > 0.028257075054077013\n",
      "1.1.1.1.2.2.1.1 s1 > -0.04257235499460499\n",
      "1.1.1.1.2.2.1.1 Left - 118.45454545454545\n",
      "1.1.1.1.2.2.1.1.2 age > 0.023545752629345787\n",
      "1.1.1.1.2.2.1.1.2.1 s2 > -0.021292749288390714\n",
      "1.1.1.1.2.2.1.1.2.1 Left - 69.46153846153847\n",
      "1.1.1.1.2.2.1.1.2.1 Right - 94.18604651162791\n",
      "1.1.1.1.2.2.1.1.2 Right - 109.18181818181819\n",
      "1.1.1.1.2.2.1 Right - 160.0\n",
      "1.1.1.1.2.2 Right - 216.0\n",
      "1.1.1 Right - 277.0\n",
      "1.1.2 s4 > 0.10674575915713551\n",
      "1.1.2.1 s6 > -0.001077697500466518\n",
      "1.1.2.1 Left - 180.75\n",
      "1.1.2.1.2 age > 0.0017505219232284985\n",
      "1.1.2.1.2 Left - 114.58823529411765\n",
      "1.1.2.1.2 Right - 165.6315789473684\n",
      "1.1.2 Right - 216.14285714285714\n",
      "1.2 s6 > 0.026260208137442592\n",
      "1.2.1 bp > 0.03426668949240641\n",
      "1.2.1.1 bmi > 0.1183891216048243\n",
      "1.2.1.1.1 age > -0.0854304009012407\n",
      "1.2.1.1.1 Left - 274.0\n",
      "1.2.1.1.1.2 bp > -0.03906645628417579\n",
      "1.2.1.1.1.2 Left - 120.26666666666667\n",
      "1.2.1.1.1.2 Right - 163.95238095238096\n",
      "1.2.1.1 Right - 346.0\n",
      "1.2.1 Right - 226.03125\n",
      "1.2 Right - 239.3125\n"
     ]
    }
   ],
   "source": [
    "test.print_tree()"
   ]
  },
  {
   "cell_type": "markdown",
   "id": "70cc12ba",
   "metadata": {},
   "source": [
    "# Testing tree #6  - (15,35,30,6)"
   ]
  },
  {
   "cell_type": "code",
   "execution_count": 60,
   "id": "99cc44cc",
   "metadata": {},
   "outputs": [],
   "source": [
    "test = MyTreeReg(15,35,30,6)\n",
    "test.fit(X,y)"
   ]
  },
  {
   "cell_type": "code",
   "execution_count": 61,
   "id": "ddf40ea5",
   "metadata": {},
   "outputs": [
    {
     "name": "stdout",
     "output_type": "stream",
     "text": [
      "Number of leaves is 26\n"
     ]
    }
   ],
   "source": [
    "print('Number of leaves is', test.leafs_cnt)"
   ]
  },
  {
   "cell_type": "code",
   "execution_count": 62,
   "id": "df1bf6cd",
   "metadata": {},
   "outputs": [
    {
     "name": "stdout",
     "output_type": "stream",
     "text": [
      "Sum of the leafves values is 4120.649305\n"
     ]
    }
   ],
   "source": [
    "print('Sum of the leafves values is', np.round(np.sum(test.leafs_sum),6))"
   ]
  },
  {
   "cell_type": "code",
   "execution_count": 63,
   "id": "7c345586",
   "metadata": {},
   "outputs": [
    {
     "name": "stdout",
     "output_type": "stream",
     "text": [
      "1 s5 > 0.003750797226299507\n",
      "1.1 bmi > -0.0033317886054590046\n",
      "1.1.1 s5 > -0.039531930369269996\n",
      "1.1.1.1 age > 0.07440129094361951\n",
      "1.1.1.1.1 s6 > -0.001077697500466518\n",
      "1.1.1.1.1.1 bmi > -0.04680354225198875\n",
      "1.1.1.1.1.1 Left - 89.17241379310344\n",
      "1.1.1.1.1.1 Right - 70.46428571428571\n",
      "1.1.1.1.1 Right - 105.11764705882354\n",
      "1.1.1.1 Right - 199.0\n",
      "1.1.1.2 s2 > 0.09398763777839597\n",
      "1.1.1.2.1 bp > 0.09130358065197033\n",
      "1.1.1.2.1.1 s6 > -0.04664087356364835\n",
      "1.1.1.2.1.1 Left - 119.96\n",
      "1.1.1.2.1.1.2 age > 0.0017505219232284985\n",
      "1.1.1.2.1.1.2 Left - 93.40625\n",
      "1.1.1.2.1.1.2.2 s6 > -0.001077697500466518\n",
      "1.1.1.2.1.1.2.2 Left - 126.36363636363636\n",
      "1.1.1.2.1.1.2.2 Right - 104.51851851851852\n",
      "1.1.1.2.1 Right - 159.5\n",
      "1.1.1.2 Right - 189.0\n",
      "1.1.2 bmi > 0.08361171868760049\n",
      "1.1.2.1 s5 > -0.039531930369269996\n",
      "1.1.2.1 Left - 112.26315789473684\n",
      "1.1.2.1.2 bp > 0.00982230756687899\n",
      "1.1.2.1.2 Left - 141.1904761904762\n",
      "1.1.2.1.2 Right - 176.8695652173913\n",
      "1.1.2 Right - 253.85714285714286\n",
      "1.2 bmi > 0.040139965041070744\n",
      "1.2.1 bmi > -0.0033317886054590046\n",
      "1.2.1.1 s6 > 0.044485478562715314\n",
      "1.2.1.1.1 s6 > -0.001077697500466518\n",
      "1.2.1.1.1 Left - 172.84615384615384\n",
      "1.2.1.1.1 Right - 128.0\n",
      "1.2.1.1 Right - 191.3846153846154\n",
      "1.2.1.2 s2 > 0.09398763777839597\n",
      "1.2.1.2.1 s6 > 0.044485478562715314\n",
      "1.2.1.2.1.1 s5 > 0.04703352482186901\n",
      "1.2.1.2.1.1.1 s3 > 0.03943600493993199\n",
      "1.2.1.2.1.1.1.1 s1 > 0.06034891879883933\n",
      "1.2.1.2.1.1.1.1 Left - 192.72727272727272\n",
      "1.2.1.2.1.1.1.1 Right - 114.0\n",
      "1.2.1.2.1.1.1 Right - 102.25\n",
      "1.2.1.2.1.1 Right - 236.0\n",
      "1.2.1.2.1 Right - 238.15384615384616\n",
      "1.2.1.2 Right - 118.0\n",
      "1.2.2 bp > 0.05056294410942466\n",
      "1.2.2.1 s6 > 0.044485478562715314\n",
      "1.2.2.1 Left - 176.1578947368421\n",
      "1.2.2.1 Right - 249.125\n",
      "1.2.2 Right - 261.32142857142856\n"
     ]
    }
   ],
   "source": [
    "test.print_tree()"
   ]
  },
  {
   "cell_type": "code",
   "execution_count": null,
   "id": "aafd5a31",
   "metadata": {},
   "outputs": [],
   "source": []
  }
 ],
 "metadata": {
  "kernelspec": {
   "display_name": "Python 3",
   "language": "python",
   "name": "python3"
  },
  "language_info": {
   "codemirror_mode": {
    "name": "ipython",
    "version": 3
   },
   "file_extension": ".py",
   "mimetype": "text/x-python",
   "name": "python",
   "nbconvert_exporter": "python",
   "pygments_lexer": "ipython3",
   "version": "3.8.10"
  }
 },
 "nbformat": 4,
 "nbformat_minor": 5
}
