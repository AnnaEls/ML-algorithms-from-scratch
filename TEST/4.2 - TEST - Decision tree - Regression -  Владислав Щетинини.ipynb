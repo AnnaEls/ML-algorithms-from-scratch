{
 "cells": [
  {
   "cell_type": "code",
   "execution_count": 1,
   "id": "e6fa540b",
   "metadata": {},
   "outputs": [],
   "source": [
    "import numpy as np\n",
    "import pandas as pd\n",
    "from sklearn.datasets import make_classification"
   ]
  },
  {
   "cell_type": "markdown",
   "id": "f097d091",
   "metadata": {},
   "source": [
    "# Diabetes data"
   ]
  },
  {
   "cell_type": "code",
   "execution_count": 2,
   "id": "19eaf9a3",
   "metadata": {},
   "outputs": [],
   "source": [
    "from sklearn.datasets import load_diabetes\n",
    "data = load_diabetes(as_frame=True)\n",
    "X, y = data['data'], data['target']"
   ]
  },
  {
   "cell_type": "markdown",
   "id": "82a9a408",
   "metadata": {},
   "source": [
    "# Solution: Владислав Щетинини"
   ]
  },
  {
   "cell_type": "code",
   "execution_count": 3,
   "id": "29192808",
   "metadata": {},
   "outputs": [],
   "source": [
    "class Node:\n",
    "    def __init__(self):\n",
    "        self.feature = None\n",
    "        self.value_split = None\n",
    "        self.value_leaf = None\n",
    "        self.side = None\n",
    "        self.left = None\n",
    "        self.right = None\n",
    "\n",
    "class MyTreeReg:\n",
    "    def __init__(self, max_depth=5, min_samples_split=2, max_leafs=20, bins=None):\n",
    "        self.max_depth = max_depth\n",
    "        self.min_samples_split = min_samples_split\n",
    "        self.max_leafs = max_leafs\n",
    "        self.leafs_cnt = 1\n",
    "        self.bins = bins\n",
    "\n",
    "    def fit(self, X, y):\n",
    "        self.tree = None\n",
    "        self.split_values = {}\n",
    "        \n",
    "        def create_tree(root, X_root, y_root, side='root', depth=0):\n",
    "            if root is None:\n",
    "                root = Node()\n",
    "\n",
    "            y_root_unique_size = len(y_root.unique())\n",
    "            if y_root_unique_size == 0 or y_root_unique_size == 1 or \\\n",
    "              depth >= self.max_depth or len(y_root) < self.min_samples_split \\\n",
    "              or (self.leafs_cnt > 1 and self.leafs_cnt >= self.max_leafs):\n",
    "                root.side = side\n",
    "                root.value_leaf = y_root.mean()\n",
    "                return root\n",
    "\n",
    "            col_name, split_value, _ = self.get_best_split(X_root, y_root)\n",
    "\n",
    "            X_left = X_root[X_root[col_name] <= split_value]\n",
    "            y_left = y_root[X_root[col_name] <= split_value]\n",
    "\n",
    "            X_right = X_root[X_root[col_name] > split_value]\n",
    "            y_right = y_root[X_root[col_name] > split_value]\n",
    "\n",
    "            if len(X_left) == 0 or len(X_right) == 0:\n",
    "                root.side = side\n",
    "                root.value_leaf = y_root.mean()\n",
    "                return root\n",
    "\n",
    "            root.feature = col_name\n",
    "            root.value_split = split_value\n",
    "            self.leafs_cnt += 1\n",
    "\n",
    "            root.left = create_tree(root.left, X_left, y_left, 'left', depth + 1)\n",
    "            root.right = create_tree(root.right, X_right, y_right, 'right', depth + 1)\n",
    "\n",
    "            return root\n",
    "\n",
    "        self.tree = create_tree(self.tree, X, y)\n",
    "\n",
    "    def predict(self, X):\n",
    "        y_pred = []\n",
    "        for _, row in X.iterrows():\n",
    "            node = self.tree\n",
    "            while node.feature:\n",
    "                if row[node.feature] <= node.value_split:\n",
    "                    node = node.left\n",
    "                else:\n",
    "                    node = node.right\n",
    "            y_pred.append(node.value_leaf)\n",
    "        return np.array(y_pred)\n",
    "\n",
    "    def print_tree(self, node=None, depth=0):\n",
    "        if node is None:\n",
    "            node = self.tree\n",
    "        if node.feature is not None:\n",
    "            print(f\"{' ' * depth}{node.feature} > {node.value_split}\")\n",
    "            if node.left is not None:\n",
    "                self.print_tree(node.left, depth + 1)\n",
    "            if node.right is not None:\n",
    "                self.print_tree(node.right, depth + 1)\n",
    "        else:\n",
    "            print(f\"{' ' * depth}{node.side} = {node.value_leaf}\")\n",
    "\n",
    "    def get_best_split(self, X, y):\n",
    "        mse_0 = self.mse(y)\n",
    "\n",
    "        col_name = None\n",
    "        split_value = None\n",
    "        gain = -float('inf')\n",
    "\n",
    "        for col in X.columns:\n",
    "            if not (col in self.split_values.keys()):\n",
    "                x_unique_values = np.unique(X[col])\n",
    "                if self.bins is None or len(x_unique_values) - 1 < self.bins:\n",
    "                    self.split_values[col] = np.array([(x_unique_values[i - 1] + x_unique_values[i]) / 2 for i in range(1, len(x_unique_values))])\n",
    "                else:\n",
    "                    _, self.split_values[col] = np.histogram(X[col], bins=self.bins)\n",
    "\n",
    "            for split_value_i in self.split_values[col]:\n",
    "                mask = X[col] <= split_value_i\n",
    "                left_split, right_split = y[mask], y[~mask]\n",
    "\n",
    "                mse_left = self.mse(left_split)\n",
    "                mse_right = self.mse(right_split)\n",
    "\n",
    "                weight_left = len(left_split) / len(y)\n",
    "                weight_right = len(right_split) / len(y)\n",
    "\n",
    "                mse_i = weight_left * mse_left + weight_right * mse_right\n",
    "\n",
    "                gain_i = mse_0 - mse_i\n",
    "                if gain < gain_i:\n",
    "                    col_name = col\n",
    "                    split_value = split_value_i\n",
    "                    gain = gain_i\n",
    "\n",
    "        return col_name, split_value, gain\n",
    "\n",
    "    def mse(self, t):\n",
    "        t_mean = np.mean(t)\n",
    "        return ((t - t_mean) ** 2).mean()\n",
    "\n",
    "    def __str__(self):\n",
    "        return f\"MyTreeReg class: max_depth={self.max_depth}, min_samples_split={self.min_samples_split}, max_leafs={self.max_leafs}\""
   ]
  },
  {
   "cell_type": "markdown",
   "id": "0ef6bd5e",
   "metadata": {},
   "source": [
    "# Testing tree #3 - (5,100,10,4)"
   ]
  },
  {
   "cell_type": "code",
   "execution_count": 4,
   "id": "6d4b55c4",
   "metadata": {},
   "outputs": [],
   "source": [
    "test = MyTreeReg(5,100,10,4)\n",
    "test.fit(X,y)"
   ]
  },
  {
   "cell_type": "code",
   "execution_count": 5,
   "id": "7bb28482",
   "metadata": {},
   "outputs": [
    {
     "name": "stdout",
     "output_type": "stream",
     "text": [
      "Number of leaves is 9\n"
     ]
    }
   ],
   "source": [
    "print('Number of leaves is', test.leafs_cnt)"
   ]
  },
  {
   "cell_type": "code",
   "execution_count": 7,
   "id": "e92b02aa",
   "metadata": {},
   "outputs": [
    {
     "name": "stdout",
     "output_type": "stream",
     "text": [
      "Sum of the leafves values is 1536.517848\n"
     ]
    }
   ],
   "source": [
    "sum_leafs = []\n",
    "def get_leafs_sum(node, depth):\n",
    "    if node is None:\n",
    "        node = test.tree\n",
    "    if node.feature is not None:\n",
    "        if node.left is not None:\n",
    "            get_leafs_sum(node.left, depth + 1)\n",
    "        if node.right is not None:\n",
    "            get_leafs_sum(node.right, depth + 1)\n",
    "    else:\n",
    "        sum_leafs.append(node.value_leaf)\n",
    "    return sum_leafs\n",
    "get_leafs_sum(test.tree,0)\n",
    "print('Sum of the leafves values is', np.round(np.sum(sum_leafs),6))"
   ]
  },
  {
   "cell_type": "code",
   "execution_count": 8,
   "id": "ae3bd5ed",
   "metadata": {},
   "outputs": [
    {
     "name": "stdout",
     "output_type": "stream",
     "text": [
      "s5 > 0.003750797226299507\n",
      " bmi > 0.040139965041070744\n",
      "  bmi > -0.02506766542872388\n",
      "   s4 > 0.05441996975509651\n",
      "    s2 > 0.04158746183894749\n",
      "     left = 95.47826086956522\n",
      "     right = 133.25\n",
      "    right = 253.0\n",
      "   right = 121.66666666666667\n",
      "  right = 176.82758620689654\n",
      " bmi > 0.040139965041070744\n",
      "  bmi > -0.02506766542872388\n",
      "   left = 140.7037037037037\n",
      "   sex > 0.0030192411164148523\n",
      "    left = 205.9090909090909\n",
      "    right = 177.14285714285714\n",
      "  right = 232.53968253968253\n"
     ]
    }
   ],
   "source": [
    "test.print_tree()"
   ]
  },
  {
   "cell_type": "markdown",
   "id": "4785ed32",
   "metadata": {},
   "source": [
    "# Testing tree #5 - (10,40,21,10)"
   ]
  },
  {
   "cell_type": "code",
   "execution_count": 9,
   "id": "68723e87",
   "metadata": {},
   "outputs": [],
   "source": [
    "test = MyTreeReg(10,40,21,10)\n",
    "test.fit(X,y)"
   ]
  },
  {
   "cell_type": "code",
   "execution_count": 10,
   "id": "5f1d499c",
   "metadata": {},
   "outputs": [
    {
     "name": "stdout",
     "output_type": "stream",
     "text": [
      "Number of leaves is 21\n"
     ]
    }
   ],
   "source": [
    "print('Number of leaves is', test.leafs_cnt)"
   ]
  },
  {
   "cell_type": "code",
   "execution_count": 12,
   "id": "f47acf23",
   "metadata": {},
   "outputs": [
    {
     "name": "stdout",
     "output_type": "stream",
     "text": [
      "Sum of the leafves values is 3487.228104\n"
     ]
    }
   ],
   "source": [
    "sum_leafs = []\n",
    "def get_leafs_sum(node, depth):\n",
    "    if node is None:\n",
    "        node = test.tree\n",
    "    if node.feature is not None:\n",
    "        if node.left is not None:\n",
    "            get_leafs_sum(node.left, depth + 1)\n",
    "        if node.right is not None:\n",
    "            get_leafs_sum(node.right, depth + 1)\n",
    "    else:\n",
    "        sum_leafs.append(node.value_leaf)\n",
    "    return sum_leafs\n",
    "get_leafs_sum(test.tree,0)\n",
    "print('Sum of the leafves values is', np.round(np.sum(sum_leafs),6))"
   ]
  },
  {
   "cell_type": "code",
   "execution_count": 13,
   "id": "de098c89",
   "metadata": {},
   "outputs": [
    {
     "name": "stdout",
     "output_type": "stream",
     "text": [
      "bmi > 0.0140569128531529\n",
      " s5 > 0.003750797226299507\n",
      "  age > 0.0889314447476977\n",
      "   s5 > -0.0481884758883839\n",
      "    s6 > -0.001077697500466518\n",
      "     bp > -0.03906645628417579\n",
      "      left = 67.0909090909091\n",
      "      right = 86.77777777777777\n",
      "     right = 109.4\n",
      "    s3 > -0.017261217243008803\n",
      "     left = 133.0\n",
      "     bp > 0.10759983526898859\n",
      "      s4 > 0.028257075054077013\n",
      "       s1 > -0.04257235499460499\n",
      "        left = 118.45454545454545\n",
      "        age > 0.023545752629345787\n",
      "         s2 > -0.021292749288390714\n",
      "          left = 69.46153846153847\n",
      "          right = 94.18604651162791\n",
      "         right = 109.18181818181819\n",
      "       right = 160.0\n",
      "      right = 216.0\n",
      "   right = 277.0\n",
      "  s4 > 0.10674575915713551\n",
      "   s6 > -0.001077697500466518\n",
      "    left = 180.75\n",
      "    age > 0.0017505219232284985\n",
      "     left = 114.58823529411765\n",
      "     right = 165.6315789473684\n",
      "   right = 216.14285714285714\n",
      " s6 > 0.026260208137442592\n",
      "  bp > 0.03426668949240641\n",
      "   bmi > 0.1183891216048243\n",
      "    age > -0.0854304009012407\n",
      "     left = 274.0\n",
      "     bp > -0.03906645628417579\n",
      "      left = 120.26666666666667\n",
      "      right = 163.95238095238096\n",
      "    right = 346.0\n",
      "   right = 226.03125\n",
      "  right = 239.3125\n"
     ]
    }
   ],
   "source": [
    "test.print_tree()"
   ]
  },
  {
   "cell_type": "markdown",
   "id": "70cc12ba",
   "metadata": {},
   "source": [
    "# Testing tree #6  - (15,35,30,6)"
   ]
  },
  {
   "cell_type": "code",
   "execution_count": 14,
   "id": "99cc44cc",
   "metadata": {},
   "outputs": [],
   "source": [
    "test = MyTreeReg(15,35,30,6)\n",
    "test.fit(X,y)"
   ]
  },
  {
   "cell_type": "code",
   "execution_count": 15,
   "id": "ddf40ea5",
   "metadata": {},
   "outputs": [
    {
     "name": "stdout",
     "output_type": "stream",
     "text": [
      "Number of leaves is 27\n"
     ]
    }
   ],
   "source": [
    "print('Number of leaves is', test.leafs_cnt)"
   ]
  },
  {
   "cell_type": "code",
   "execution_count": 17,
   "id": "df1bf6cd",
   "metadata": {},
   "outputs": [
    {
     "name": "stdout",
     "output_type": "stream",
     "text": [
      "Sum of the leafves values is 4232.007259\n"
     ]
    }
   ],
   "source": [
    "sum_leafs = []\n",
    "def get_leafs_sum(node, depth):\n",
    "    if node is None:\n",
    "        node = test.tree\n",
    "    if node.feature is not None:\n",
    "        if node.left is not None:\n",
    "            get_leafs_sum(node.left, depth + 1)\n",
    "        if node.right is not None:\n",
    "            get_leafs_sum(node.right, depth + 1)\n",
    "    else:\n",
    "        sum_leafs.append(node.value_leaf)\n",
    "    return sum_leafs\n",
    "get_leafs_sum(test.tree,0)\n",
    "print('Sum of the leafves values is', np.round(np.sum(sum_leafs),6))"
   ]
  },
  {
   "cell_type": "code",
   "execution_count": 18,
   "id": "7c345586",
   "metadata": {},
   "outputs": [
    {
     "name": "stdout",
     "output_type": "stream",
     "text": [
      "s5 > 0.003750797226299507\n",
      " bmi > -0.0033317886054590046\n",
      "  s5 > -0.039531930369269996\n",
      "   age > 0.07440129094361951\n",
      "    s6 > -0.001077697500466518\n",
      "     bmi > -0.04680354225198875\n",
      "      left = 89.17241379310344\n",
      "      right = 70.46428571428571\n",
      "     right = 105.11764705882354\n",
      "    right = 199.0\n",
      "   s2 > 0.09398763777839597\n",
      "    bp > 0.09130358065197033\n",
      "     s6 > -0.04664087356364835\n",
      "      left = 119.96\n",
      "      s4 > -0.076394503750001\n",
      "       left = 72.33333333333333\n",
      "       s2 > -0.06321289003994951\n",
      "        left = 157.0\n",
      "        age > 0.0017505219232284985\n",
      "         left = 93.60714285714286\n",
      "         right = 112.70588235294117\n",
      "     right = 159.5\n",
      "    right = 189.0\n",
      "  bmi > 0.08361171868760049\n",
      "   s5 > -0.039531930369269996\n",
      "    left = 112.26315789473684\n",
      "    bp > 0.00982230756687899\n",
      "     left = 141.1904761904762\n",
      "     right = 176.8695652173913\n",
      "   right = 253.85714285714286\n",
      " bmi > 0.040139965041070744\n",
      "  bmi > -0.0033317886054590046\n",
      "   s6 > 0.044485478562715314\n",
      "    s6 > -0.001077697500466518\n",
      "     left = 172.84615384615384\n",
      "     right = 128.0\n",
      "    right = 191.3846153846154\n",
      "   s2 > 0.09398763777839597\n",
      "    s6 > 0.044485478562715314\n",
      "     s5 > 0.04703352482186901\n",
      "      s3 > 0.03943600493993199\n",
      "       s1 > 0.06034891879883933\n",
      "        left = 192.72727272727272\n",
      "        right = 114.0\n",
      "       right = 102.25\n",
      "      right = 236.0\n",
      "     right = 238.15384615384616\n",
      "    right = 118.0\n",
      "  bp > 0.05056294410942466\n",
      "   s6 > 0.044485478562715314\n",
      "    left = 176.1578947368421\n",
      "    right = 249.125\n",
      "   right = 261.32142857142856\n"
     ]
    }
   ],
   "source": [
    "test.print_tree()"
   ]
  },
  {
   "cell_type": "code",
   "execution_count": null,
   "id": "aafd5a31",
   "metadata": {},
   "outputs": [],
   "source": []
  }
 ],
 "metadata": {
  "kernelspec": {
   "display_name": "Python 3",
   "language": "python",
   "name": "python3"
  },
  "language_info": {
   "codemirror_mode": {
    "name": "ipython",
    "version": 3
   },
   "file_extension": ".py",
   "mimetype": "text/x-python",
   "name": "python",
   "nbconvert_exporter": "python",
   "pygments_lexer": "ipython3",
   "version": "3.8.10"
  }
 },
 "nbformat": 4,
 "nbformat_minor": 5
}
